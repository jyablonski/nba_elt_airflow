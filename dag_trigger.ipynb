{
 "cells": [
  {
   "cell_type": "code",
   "execution_count": 2,
   "metadata": {},
   "outputs": [],
   "source": [
    "import requests\n",
    "import json\n",
    "import os\n",
    "\n",
    "dag_id = 'graphql_agent_test'\n",
    "\n",
    "r = requests.post(f\"http://localhost:8080/api/v1/dags/{dag_id}/dagRuns\",\n",
    "                   headers={\n",
    "                      'accept': 'application/json',\n",
    "                      'Content-Type': 'application/json',\n",
    "                  }, \n",
    "                   auth=(os.environ.get('api_user'), os.environ.get('api_user')), \n",
    "                   data=json.dumps({\"conf\": {}})\n",
    "                 )"
   ]
  }
 ],
 "metadata": {
  "kernelspec": {
   "display_name": "Python 3.8.8 ('base')",
   "language": "python",
   "name": "python3"
  },
  "language_info": {
   "codemirror_mode": {
    "name": "ipython",
    "version": 3
   },
   "file_extension": ".py",
   "mimetype": "text/x-python",
   "name": "python",
   "nbconvert_exporter": "python",
   "pygments_lexer": "ipython3",
   "version": "3.8.8"
  },
  "orig_nbformat": 4,
  "vscode": {
   "interpreter": {
    "hash": "51acfa6005ffec5e74e71d844e0daa05d24ac78244a0bb1b7874b497027552e7"
   }
  }
 },
 "nbformat": 4,
 "nbformat_minor": 2
}
